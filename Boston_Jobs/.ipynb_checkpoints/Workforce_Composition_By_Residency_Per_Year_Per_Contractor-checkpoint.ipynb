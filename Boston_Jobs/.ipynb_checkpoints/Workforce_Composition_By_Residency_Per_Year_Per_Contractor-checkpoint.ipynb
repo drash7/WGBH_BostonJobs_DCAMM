{
 "cells": [
  {
   "cell_type": "code",
   "execution_count": 1,
   "metadata": {},
   "outputs": [],
   "source": [
    "import pandas as pd\n",
    "import numpy as np\n",
    "\n",
    "df = pd.read_csv('Copy_of_wgbh.csv', index_col='DateEntered', parse_dates=True)"
   ]
  },
  {
   "cell_type": "code",
   "execution_count": 2,
   "metadata": {},
   "outputs": [],
   "source": [
    "# convert index to yearly DateTime object\n",
    "df.index = df.index.to_period('Y')"
   ]
  },
  {
   "cell_type": "code",
   "execution_count": 3,
   "metadata": {},
   "outputs": [
    {
     "data": {
      "text/plain": [
       "Index(['Agency', 'ProjectName', 'ProjectAddress_1', 'Developer',\n",
       "       'GeneralContractor', 'SubContractor', 'SubContractorAddress_1',\n",
       "       'SubContractorAddress_2', 'Trade', 'SEX', 'MINOR', 'Race_Desc',\n",
       "       'RESIDENT', 'TotalHours'],\n",
       "      dtype='object')"
      ]
     },
     "execution_count": 3,
     "metadata": {},
     "output_type": "execute_result"
    }
   ],
   "source": [
    "df.columns"
   ]
  },
  {
   "cell_type": "code",
   "execution_count": 4,
   "metadata": {},
   "outputs": [],
   "source": [
    "# drop everything but race, residency, developer columns\n",
    "df = df.drop(['Agency', 'ProjectName', 'ProjectAddress_1',\n",
    "       'GeneralContractor', 'SubContractor', 'SubContractorAddress_1',\n",
    "       'SubContractorAddress_2', 'Trade', 'MINOR', 'TotalHours'], axis=1)"
   ]
  },
  {
   "cell_type": "code",
   "execution_count": 5,
   "metadata": {},
   "outputs": [],
   "source": [
    "df = df.drop('SEX', axis=1)"
   ]
  },
  {
   "cell_type": "code",
   "execution_count": 6,
   "metadata": {},
   "outputs": [],
   "source": [
    "df = df.drop(df.index[0])\n",
    "# race_df = df[['Developer', 'Race_Desc']]\n",
    "res_df = df[['Developer', 'RESIDENT']].dropna()"
   ]
  },
  {
   "cell_type": "code",
   "execution_count": 7,
   "metadata": {},
   "outputs": [],
   "source": [
    "# create a current workforce composition report by residency per developer\n",
    "summary = pd.DataFrame(columns=['Developer', 'Y', 'N', 'TOTAL_PROJECTS'])\n",
    "developers = res_df['Developer'].unique()\n",
    "groups = res_df.groupby(res_df.Developer)\n",
    "res = ['Y', 'N']\n",
    "res_df = res_df.dropna()\n",
    "\n",
    "# compute percentage of employees for each developer by residency\n",
    "for i in range(len(developers)):\n",
    "    temp = groups.get_group(developers[i])\n",
    "    filt1 = temp['RESIDENT'] == 'Y'\n",
    "    filt2 = temp['RESIDENT'] == 'y'\n",
    "    filt3 = temp['RESIDENT'] == 'N'\n",
    "    filt4 = temp['RESIDENT'] == 'n'\n",
    "    Y = temp[filt1]\n",
    "    y = temp[filt2]\n",
    "    N = temp[filt3]\n",
    "    n = temp[filt4]\n",
    "    num_res = Y.shape[0] + y.shape[0]\n",
    "    num_non_res = N.shape[0] + n.shape[0]\n",
    "    summary.loc[len(summary.index)] = [developers[i], num_res, num_non_res, num_res + num_non_res]"
   ]
  },
  {
   "cell_type": "code",
   "execution_count": 8,
   "metadata": {},
   "outputs": [],
   "source": [
    "summary.columns = ['Developer', 'Resident', 'Non-resident', 'Total']\n",
    "summary.to_csv('Current_Developer_Workforce_Comp_By_Residency.csv')"
   ]
  },
  {
   "cell_type": "code",
   "execution_count": 9,
   "metadata": {},
   "outputs": [],
   "source": [
    "summary2 = pd.DataFrame(index=developers, columns=['2016', '2017', '2018', '2019', '2020', '2021'], data=0)"
   ]
  },
  {
   "cell_type": "code",
   "execution_count": 10,
   "metadata": {},
   "outputs": [],
   "source": [
    "# compute number of Boston residents employed per year for each developer\n",
    "temp_years = ['2016', '2017', '2018', '2019', '2020', '2021']\n",
    "\n",
    "for i in range(len(developers)):\n",
    "    temp = groups.get_group(developers[i])\n",
    "    temp_groups = temp.groupby(temp.index)\n",
    "    more_years = temp.index.unique()\n",
    "    for j in range(len(more_years)):\n",
    "        curr_year_df = temp_groups.get_group(more_years[j])\n",
    "        residencies = curr_year_df.RESIDENT.unique()\n",
    "        curr_year_groups = curr_year_df.groupby(curr_year_df.RESIDENT)\n",
    "        for k in range(len(residencies)):\n",
    "            curr_group = curr_year_groups.get_group(residencies[k])\n",
    "            if residencies[k] == 'Y' or residencies[k] == 'y':\n",
    "                summary2.loc[developers[i], temp_years[j]] += curr_group.count().RESIDENT"
   ]
  },
  {
   "cell_type": "code",
   "execution_count": 11,
   "metadata": {},
   "outputs": [
    {
     "data": {
      "text/html": [
       "<div>\n",
       "<style scoped>\n",
       "    .dataframe tbody tr th:only-of-type {\n",
       "        vertical-align: middle;\n",
       "    }\n",
       "\n",
       "    .dataframe tbody tr th {\n",
       "        vertical-align: top;\n",
       "    }\n",
       "\n",
       "    .dataframe thead th {\n",
       "        text-align: right;\n",
       "    }\n",
       "</style>\n",
       "<table border=\"1\" class=\"dataframe\">\n",
       "  <thead>\n",
       "    <tr style=\"text-align: right;\">\n",
       "      <th></th>\n",
       "      <th>2016</th>\n",
       "      <th>2017</th>\n",
       "      <th>2018</th>\n",
       "      <th>2019</th>\n",
       "      <th>2020</th>\n",
       "      <th>2021</th>\n",
       "    </tr>\n",
       "  </thead>\n",
       "  <tbody>\n",
       "    <tr>\n",
       "      <th>CITY OF BOSTON   / PFD</th>\n",
       "      <td>328</td>\n",
       "      <td>1236</td>\n",
       "      <td>855</td>\n",
       "      <td>12</td>\n",
       "      <td>0</td>\n",
       "      <td>0</td>\n",
       "    </tr>\n",
       "    <tr>\n",
       "      <th>THE COMMUNITY BUILDERS</th>\n",
       "      <td>96</td>\n",
       "      <td>637</td>\n",
       "      <td>1137</td>\n",
       "      <td>309</td>\n",
       "      <td>11</td>\n",
       "      <td>0</td>\n",
       "    </tr>\n",
       "    <tr>\n",
       "      <th>CITY OF BOSTON / PFD</th>\n",
       "      <td>48</td>\n",
       "      <td>24</td>\n",
       "      <td>41</td>\n",
       "      <td>1114</td>\n",
       "      <td>1057</td>\n",
       "      <td>0</td>\n",
       "    </tr>\n",
       "    <tr>\n",
       "      <th>HYM INVESTMENT GROUP</th>\n",
       "      <td>261</td>\n",
       "      <td>1385</td>\n",
       "      <td>1734</td>\n",
       "      <td>465</td>\n",
       "      <td>67</td>\n",
       "      <td>0</td>\n",
       "    </tr>\n",
       "    <tr>\n",
       "      <th>Delware Limited Liability Co.</th>\n",
       "      <td>116</td>\n",
       "      <td>245</td>\n",
       "      <td>0</td>\n",
       "      <td>0</td>\n",
       "      <td>0</td>\n",
       "      <td>0</td>\n",
       "    </tr>\n",
       "    <tr>\n",
       "      <th>...</th>\n",
       "      <td>...</td>\n",
       "      <td>...</td>\n",
       "      <td>...</td>\n",
       "      <td>...</td>\n",
       "      <td>...</td>\n",
       "      <td>...</td>\n",
       "    </tr>\n",
       "    <tr>\n",
       "      <th>Trusties of Boston college</th>\n",
       "      <td>7</td>\n",
       "      <td>0</td>\n",
       "      <td>0</td>\n",
       "      <td>0</td>\n",
       "      <td>0</td>\n",
       "      <td>0</td>\n",
       "    </tr>\n",
       "    <tr>\n",
       "      <th>WEST NAPOLI PIZZA</th>\n",
       "      <td>0</td>\n",
       "      <td>0</td>\n",
       "      <td>0</td>\n",
       "      <td>0</td>\n",
       "      <td>0</td>\n",
       "      <td>0</td>\n",
       "    </tr>\n",
       "    <tr>\n",
       "      <th>PARTNERS HEALTHCARE SYSTEMS, INC.</th>\n",
       "      <td>1</td>\n",
       "      <td>0</td>\n",
       "      <td>0</td>\n",
       "      <td>0</td>\n",
       "      <td>0</td>\n",
       "      <td>0</td>\n",
       "    </tr>\n",
       "    <tr>\n",
       "      <th>BRIGHAM AND WOMEN'S HOSPITAL</th>\n",
       "      <td>0</td>\n",
       "      <td>0</td>\n",
       "      <td>0</td>\n",
       "      <td>0</td>\n",
       "      <td>0</td>\n",
       "      <td>0</td>\n",
       "    </tr>\n",
       "    <tr>\n",
       "      <th>GENZYME</th>\n",
       "      <td>0</td>\n",
       "      <td>0</td>\n",
       "      <td>0</td>\n",
       "      <td>0</td>\n",
       "      <td>0</td>\n",
       "      <td>0</td>\n",
       "    </tr>\n",
       "  </tbody>\n",
       "</table>\n",
       "<p>181 rows × 6 columns</p>\n",
       "</div>"
      ],
      "text/plain": [
       "                                   2016  2017  2018  2019  2020  2021\n",
       "CITY OF BOSTON   / PFD              328  1236   855    12     0     0\n",
       "THE COMMUNITY BUILDERS               96   637  1137   309    11     0\n",
       "CITY OF BOSTON / PFD                 48    24    41  1114  1057     0\n",
       "HYM INVESTMENT GROUP                261  1385  1734   465    67     0\n",
       "Delware Limited Liability Co.       116   245     0     0     0     0\n",
       "...                                 ...   ...   ...   ...   ...   ...\n",
       "Trusties of Boston college            7     0     0     0     0     0\n",
       "WEST NAPOLI PIZZA                     0     0     0     0     0     0\n",
       "PARTNERS HEALTHCARE SYSTEMS, INC.     1     0     0     0     0     0\n",
       "BRIGHAM AND WOMEN'S HOSPITAL          0     0     0     0     0     0\n",
       "GENZYME                               0     0     0     0     0     0\n",
       "\n",
       "[181 rows x 6 columns]"
      ]
     },
     "execution_count": 11,
     "metadata": {},
     "output_type": "execute_result"
    }
   ],
   "source": [
    "summary2"
   ]
  },
  {
   "cell_type": "code",
   "execution_count": 12,
   "metadata": {},
   "outputs": [],
   "source": [
    "summary2.to_csv('Number_of_Boston_Residents_Employed_Per_Year_By_Contractor.csv')"
   ]
  },
  {
   "cell_type": "code",
   "execution_count": null,
   "metadata": {},
   "outputs": [],
   "source": []
  }
 ],
 "metadata": {
  "kernelspec": {
   "display_name": "Python 3",
   "language": "python",
   "name": "python3"
  },
  "language_info": {
   "codemirror_mode": {
    "name": "ipython",
    "version": 3
   },
   "file_extension": ".py",
   "mimetype": "text/x-python",
   "name": "python",
   "nbconvert_exporter": "python",
   "pygments_lexer": "ipython3",
   "version": "3.8.5"
  }
 },
 "nbformat": 4,
 "nbformat_minor": 4
}
